{
 "cells": [
  {
   "cell_type": "markdown",
   "metadata": {},
   "source": [
    "# Data"
   ]
  },
  {
   "cell_type": "markdown",
   "metadata": {},
   "source": [
    "The data I will be using to build the model is a record of over 100,000 accidents in Seattle, labelled by the level of severity of the accident. The data contains 37 different attributes about crashes which could be used to build the model. The main attributes I expect to use are the road and weather conditions, speeding information, lighting conditions, and whether the driver was under the influence. I do not expect to use specific location much as a predictor, in order to make the model generalizable to other cities besides Seattle; I will use the location type to predict which type of location is related to accident severity. (A complete list of attributes can be found here: https://s3.us.cloud-object-storage.appdomain.cloud/cf-courses-data/CognitiveClass/DP0701EN/version-2/Metadata.pdf)\n",
    "\n",
    "I will conduct exploratory data analysis to determine which attributes might be most useful in constructing the model and filter the data down to an appropriate number of predictive attributes. I will prepare the data set by removing incomplete records and formatting data to make it usable by the classification model. I will balance the data, to avoid creating a biased model, as well as separate the data into training and testing sets, to verify the accuracy of the model. I will use the data to build a logistic regression model that predicts the probability that an accident will be severe. Different combinations of features will be tested to determine which provides the most accurate modelling of accident severity. This type of model will be useful because it will provide the user with probabilities, as well as the ability to understand the impact of a particular feature on the crash outcome.\n"
   ]
  },
  {
   "cell_type": "code",
   "execution_count": null,
   "metadata": {},
   "outputs": [],
   "source": []
  }
 ],
 "metadata": {
  "kernelspec": {
   "display_name": "Python",
   "language": "python",
   "name": "conda-env-python-py"
  },
  "language_info": {
   "codemirror_mode": {
    "name": "ipython",
    "version": 3
   },
   "file_extension": ".py",
   "mimetype": "text/x-python",
   "name": "python",
   "nbconvert_exporter": "python",
   "pygments_lexer": "ipython3",
   "version": "3.6.11"
  }
 },
 "nbformat": 4,
 "nbformat_minor": 4
}
