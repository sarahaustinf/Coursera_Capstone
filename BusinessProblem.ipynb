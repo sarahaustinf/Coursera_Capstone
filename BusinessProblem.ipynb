{
 "cells": [
  {
   "cell_type": "markdown",
   "metadata": {},
   "source": [
    "# Business Problem"
   ]
  },
  {
   "cell_type": "markdown",
   "metadata": {},
   "source": [
    "Traffic accidents are one of the leading causes of serious injury and fatalities in the United States. In 2018 in Texas, where I live, one crash occurred every 58 seconds and one person died due to a crash every 2 hours and 24 minutes (Source: Texas Department of Transportation). According to the Association for Safe International Road Travel, 1.3 million people die in car accidents every year. Many traffic accidents could be prevented by awareness of the danger present in situations, changes in driving laws, and improved driver’s education.\n",
    "\n",
    "Creating a machine learning algorithm to predict the severity of crashes would be useful to drivers, as well as law-making bodies. Both drivers and law-making bodies are invested in reducing crashes, in order to save lives and money. Drivers could use the knowledge to decide the safest times and conditions to drive under, as well as to be aware of situations that require extra caution. Law-making bodies could use the model to make decisions about changing speed-limits, fixing road conditions, and implementing safe driving laws to address major risk factors. Therefore, the main audience for this project is drivers and law-making bodies globally. Anyone who drives could find this model relevent in keeping themselves and their passengers safe.\n"
   ]
  },
  {
   "cell_type": "code",
   "execution_count": null,
   "metadata": {},
   "outputs": [],
   "source": []
  }
 ],
 "metadata": {
  "kernelspec": {
   "display_name": "Python",
   "language": "python",
   "name": "conda-env-python-py"
  },
  "language_info": {
   "codemirror_mode": {
    "name": "ipython",
    "version": 3
   },
   "file_extension": ".py",
   "mimetype": "text/x-python",
   "name": "python",
   "nbconvert_exporter": "python",
   "pygments_lexer": "ipython3",
   "version": "3.6.11"
  }
 },
 "nbformat": 4,
 "nbformat_minor": 4
}
